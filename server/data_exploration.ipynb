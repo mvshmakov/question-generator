{
 "cells": [
  {
   "cell_type": "code",
   "execution_count": 20,
   "metadata": {
    "tags": []
   },
   "outputs": [],
   "source": [
    "from sys import executable\n",
    "from IPython.display import clear_output\n",
    "\n",
    "!{executable} -m pip install numpy pandas matplotlib ijson deeppavlov\n",
    "clear_output()"
   ]
  },
  {
   "cell_type": "code",
   "execution_count": 21,
   "metadata": {},
   "outputs": [],
   "source": [
    "import ijson\n",
    "import json\n",
    "import numpy as np\n",
    "import pandas as pd\n",
    "from pandas.io.json import json_normalize\n",
    "import matplotlib.pyplot as plt\n",
    "\n",
    "from io import StringIO"
   ]
  },
  {
   "cell_type": "code",
   "execution_count": 22,
   "metadata": {},
   "outputs": [],
   "source": [
    "import warnings\n",
    "warnings.filterwarnings('ignore')\n",
    "\n",
    "%matplotlib inline\n",
    "pd.set_option('display.float_format', lambda x: f'{x :.2f}')\n",
    "plt.rcParams['figure.figsize'] = (20.0, 10.0)"
   ]
  },
  {
   "cell_type": "markdown",
   "metadata": {},
   "source": [
    "# SQuAD"
   ]
  },
  {
   "cell_type": "code",
   "execution_count": 23,
   "metadata": {},
   "outputs": [],
   "source": [
    "from deeppavlov.dataset_readers.squad_dataset_reader import SquadDatasetReader\n",
    "dataset = SquadDatasetReader().read('./data/squad')"
   ]
  },
  {
   "cell_type": "code",
   "execution_count": 24,
   "metadata": {},
   "outputs": [],
   "source": [
    "df_train = pd.DataFrame.from_dict(dataset['train']['data'])\n",
    "df_valid = pd.DataFrame.from_dict(dataset['valid']['data'])"
   ]
  },
  {
   "cell_type": "code",
   "execution_count": 25,
   "metadata": {},
   "outputs": [
    {
     "data": {
      "text/html": [
       "<div>\n",
       "<style scoped>\n",
       "    .dataframe tbody tr th:only-of-type {\n",
       "        vertical-align: middle;\n",
       "    }\n",
       "\n",
       "    .dataframe tbody tr th {\n",
       "        vertical-align: top;\n",
       "    }\n",
       "\n",
       "    .dataframe thead th {\n",
       "        text-align: right;\n",
       "    }\n",
       "</style>\n",
       "<table border=\"1\" class=\"dataframe\">\n",
       "  <thead>\n",
       "    <tr style=\"text-align: right;\">\n",
       "      <th></th>\n",
       "      <th>title</th>\n",
       "      <th>paragraphs</th>\n",
       "    </tr>\n",
       "  </thead>\n",
       "  <tbody>\n",
       "    <tr>\n",
       "      <th>0</th>\n",
       "      <td>University_of_Notre_Dame</td>\n",
       "      <td>[{'context': 'Architecturally, the school has ...</td>\n",
       "    </tr>\n",
       "    <tr>\n",
       "      <th>1</th>\n",
       "      <td>Beyoncé</td>\n",
       "      <td>[{'context': 'Beyoncé Giselle Knowles-Carter (...</td>\n",
       "    </tr>\n",
       "    <tr>\n",
       "      <th>2</th>\n",
       "      <td>Montana</td>\n",
       "      <td>[{'context': 'Montana i/mɒnˈtænə/ is a state i...</td>\n",
       "    </tr>\n",
       "    <tr>\n",
       "      <th>3</th>\n",
       "      <td>Genocide</td>\n",
       "      <td>[{'context': 'The phrase \"in whole or in part\"...</td>\n",
       "    </tr>\n",
       "    <tr>\n",
       "      <th>4</th>\n",
       "      <td>Antibiotics</td>\n",
       "      <td>[{'context': 'The emergence of resistance of b...</td>\n",
       "    </tr>\n",
       "  </tbody>\n",
       "</table>\n",
       "</div>"
      ],
      "text/plain": [
       "                      title                                         paragraphs\n",
       "0  University_of_Notre_Dame  [{'context': 'Architecturally, the school has ...\n",
       "1                   Beyoncé  [{'context': 'Beyoncé Giselle Knowles-Carter (...\n",
       "2                   Montana  [{'context': 'Montana i/mɒnˈtænə/ is a state i...\n",
       "3                  Genocide  [{'context': 'The phrase \"in whole or in part\"...\n",
       "4               Antibiotics  [{'context': 'The emergence of resistance of b..."
      ]
     },
     "execution_count": 25,
     "metadata": {},
     "output_type": "execute_result"
    }
   ],
   "source": [
    "df_train.head()"
   ]
  },
  {
   "cell_type": "code",
   "execution_count": 26,
   "metadata": {},
   "outputs": [
    {
     "data": {
      "text/html": [
       "<div>\n",
       "<style scoped>\n",
       "    .dataframe tbody tr th:only-of-type {\n",
       "        vertical-align: middle;\n",
       "    }\n",
       "\n",
       "    .dataframe tbody tr th {\n",
       "        vertical-align: top;\n",
       "    }\n",
       "\n",
       "    .dataframe thead th {\n",
       "        text-align: right;\n",
       "    }\n",
       "</style>\n",
       "<table border=\"1\" class=\"dataframe\">\n",
       "  <thead>\n",
       "    <tr style=\"text-align: right;\">\n",
       "      <th></th>\n",
       "      <th>title</th>\n",
       "      <th>paragraphs</th>\n",
       "    </tr>\n",
       "  </thead>\n",
       "  <tbody>\n",
       "    <tr>\n",
       "      <th>0</th>\n",
       "      <td>Super_Bowl_50</td>\n",
       "      <td>[{'context': 'Super Bowl 50 was an American fo...</td>\n",
       "    </tr>\n",
       "    <tr>\n",
       "      <th>1</th>\n",
       "      <td>Warsaw</td>\n",
       "      <td>[{'context': 'One of the most famous people bo...</td>\n",
       "    </tr>\n",
       "    <tr>\n",
       "      <th>2</th>\n",
       "      <td>Normans</td>\n",
       "      <td>[{'context': 'The Normans (Norman: Nourmands; ...</td>\n",
       "    </tr>\n",
       "    <tr>\n",
       "      <th>3</th>\n",
       "      <td>Nikola_Tesla</td>\n",
       "      <td>[{'context': 'Nikola Tesla (Serbian Cyrillic: ...</td>\n",
       "    </tr>\n",
       "    <tr>\n",
       "      <th>4</th>\n",
       "      <td>Computational_complexity_theory</td>\n",
       "      <td>[{'context': 'Computational complexity theory ...</td>\n",
       "    </tr>\n",
       "  </tbody>\n",
       "</table>\n",
       "</div>"
      ],
      "text/plain": [
       "                             title  \\\n",
       "0                    Super_Bowl_50   \n",
       "1                           Warsaw   \n",
       "2                          Normans   \n",
       "3                     Nikola_Tesla   \n",
       "4  Computational_complexity_theory   \n",
       "\n",
       "                                          paragraphs  \n",
       "0  [{'context': 'Super Bowl 50 was an American fo...  \n",
       "1  [{'context': 'One of the most famous people bo...  \n",
       "2  [{'context': 'The Normans (Norman: Nourmands; ...  \n",
       "3  [{'context': 'Nikola Tesla (Serbian Cyrillic: ...  \n",
       "4  [{'context': 'Computational complexity theory ...  "
      ]
     },
     "execution_count": 26,
     "metadata": {},
     "output_type": "execute_result"
    }
   ],
   "source": [
    "df_valid.head()"
   ]
  },
  {
   "cell_type": "code",
   "execution_count": 27,
   "metadata": {},
   "outputs": [
    {
     "data": {
      "text/plain": [
       "{'context': \"All of Notre Dame's undergraduate students are a part of one of the five undergraduate colleges at the school or are in the First Year of Studies program. The First Year of Studies program was established in 1962 to guide incoming freshmen in their first year at the school before they have declared a major. Each student is given an academic advisor from the program who helps them to choose classes that give them exposure to any major in which they are interested. The program also includes a Learning Resource Center which provides time management, collaborative learning, and subject tutoring. This program has been recognized previously, by U.S. News & World Report, as outstanding.\",\n",
       " 'qas': [{'answers': [{'answer_start': 496,\n",
       "     'text': 'Learning Resource Center'}],\n",
       "   'question': 'What entity provides help with the management of time for new students at Notre Dame?',\n",
       "   'id': '5733a70c4776f41900660f64'},\n",
       "  {'answers': [{'answer_start': 68, 'text': 'five'}],\n",
       "   'question': 'How many colleges for undergraduates are at Notre Dame?',\n",
       "   'id': '5733a70c4776f41900660f62'},\n",
       "  {'answers': [{'answer_start': 155,\n",
       "     'text': 'The First Year of Studies program'}],\n",
       "   'question': 'What was created at Notre Dame in 1962 to assist first year students?',\n",
       "   'id': '5733a70c4776f41900660f63'},\n",
       "  {'answers': [{'answer_start': 647, 'text': 'U.S. News & World Report'}],\n",
       "   'question': 'Which organization declared the First Year of Studies program at Notre Dame \"outstanding?\"',\n",
       "   'id': '5733a70c4776f41900660f65'}]}"
      ]
     },
     "execution_count": 27,
     "metadata": {},
     "output_type": "execute_result"
    }
   ],
   "source": [
    "df_train['paragraphs'][0][4]"
   ]
  },
  {
   "cell_type": "markdown",
   "metadata": {},
   "source": [
    "# SberQuAD"
   ]
  },
  {
   "cell_type": "code",
   "execution_count": 28,
   "metadata": {
    "tags": []
   },
   "outputs": [],
   "source": [
    "from deeppavlov.dataset_readers.squad_dataset_reader import SquadDatasetReader\n",
    "dataset = SquadDatasetReader().read('./data/sberquad')"
   ]
  },
  {
   "cell_type": "code",
   "execution_count": 29,
   "metadata": {},
   "outputs": [],
   "source": [
    "df_train = pd.DataFrame.from_dict(dataset['train']['data'])\n",
    "df_valid = pd.DataFrame.from_dict(dataset['valid']['data'])"
   ]
  },
  {
   "cell_type": "code",
   "execution_count": 30,
   "metadata": {},
   "outputs": [
    {
     "data": {
      "text/html": [
       "<div>\n",
       "<style scoped>\n",
       "    .dataframe tbody tr th:only-of-type {\n",
       "        vertical-align: middle;\n",
       "    }\n",
       "\n",
       "    .dataframe tbody tr th {\n",
       "        vertical-align: top;\n",
       "    }\n",
       "\n",
       "    .dataframe thead th {\n",
       "        text-align: right;\n",
       "    }\n",
       "</style>\n",
       "<table border=\"1\" class=\"dataframe\">\n",
       "  <thead>\n",
       "    <tr style=\"text-align: right;\">\n",
       "      <th></th>\n",
       "      <th>title</th>\n",
       "      <th>paragraphs</th>\n",
       "    </tr>\n",
       "  </thead>\n",
       "  <tbody>\n",
       "    <tr>\n",
       "      <th>0</th>\n",
       "      <td>SberChallenge</td>\n",
       "      <td>[{'context': 'В допетровское время искусство в...</td>\n",
       "    </tr>\n",
       "  </tbody>\n",
       "</table>\n",
       "</div>"
      ],
      "text/plain": [
       "           title                                         paragraphs\n",
       "0  SberChallenge  [{'context': 'В допетровское время искусство в..."
      ]
     },
     "execution_count": 30,
     "metadata": {},
     "output_type": "execute_result"
    }
   ],
   "source": [
    "df_train.head()"
   ]
  },
  {
   "cell_type": "code",
   "execution_count": 31,
   "metadata": {},
   "outputs": [
    {
     "data": {
      "text/html": [
       "<div>\n",
       "<style scoped>\n",
       "    .dataframe tbody tr th:only-of-type {\n",
       "        vertical-align: middle;\n",
       "    }\n",
       "\n",
       "    .dataframe tbody tr th {\n",
       "        vertical-align: top;\n",
       "    }\n",
       "\n",
       "    .dataframe thead th {\n",
       "        text-align: right;\n",
       "    }\n",
       "</style>\n",
       "<table border=\"1\" class=\"dataframe\">\n",
       "  <thead>\n",
       "    <tr style=\"text-align: right;\">\n",
       "      <th></th>\n",
       "      <th>title</th>\n",
       "      <th>paragraphs</th>\n",
       "    </tr>\n",
       "  </thead>\n",
       "  <tbody>\n",
       "    <tr>\n",
       "      <th>0</th>\n",
       "      <td>SberChallenge</td>\n",
       "      <td>[{'context': 'В Миссолонги Байрон заболел лихо...</td>\n",
       "    </tr>\n",
       "  </tbody>\n",
       "</table>\n",
       "</div>"
      ],
      "text/plain": [
       "           title                                         paragraphs\n",
       "0  SberChallenge  [{'context': 'В Миссолонги Байрон заболел лихо..."
      ]
     },
     "execution_count": 31,
     "metadata": {},
     "output_type": "execute_result"
    }
   ],
   "source": [
    "df_valid.head()"
   ]
  },
  {
   "cell_type": "code",
   "execution_count": 32,
   "metadata": {},
   "outputs": [
    {
     "data": {
      "text/plain": [
       "{'context': 'В начале 1823 года Грибоедов на время покинул службу и вернулся на родину, в течение двух с лишним лет жил в Москве, в с. Дмитровском (Лакотцы) Тульской губернии, в Петербурге. Здесь автор продолжил начатую на Кавказе работу с текстом Горя от ума , к концу года написал стихотворение Давид , драматургическую сцену в стихах Юность Вещего , водевиль Кто брат, кто сестра, или Обман за обманом (в кооперации с П. А. Вяземским) и первую редакцию знаменитого вальса e-moll . К этому же периоду жизни Грибоедова принято относить и появление первых записей его Desiderata — журнала заметок по дискуссионным вопросам русской истории, географии и словесности.',\n",
       " 'id': '12672',\n",
       " 'qas': [{'id': '47731',\n",
       "   'question': 'В каком году Грибоедов написал водевиль Кто брат, кто сестра, или Обман за обманом ?',\n",
       "   'answers': [{'answer_start': 9, 'text': '1823'}]}]}"
      ]
     },
     "execution_count": 32,
     "metadata": {},
     "output_type": "execute_result"
    }
   ],
   "source": [
    "df_train['paragraphs'][0][4]"
   ]
  },
  {
   "cell_type": "markdown",
   "metadata": {},
   "source": [
    "# Preprocessing"
   ]
  },
  {
   "cell_type": "code",
   "execution_count": null,
   "metadata": {},
   "outputs": [],
   "source": []
  },
  {
   "cell_type": "code",
   "execution_count": null,
   "metadata": {},
   "outputs": [],
   "source": []
  },
  {
   "cell_type": "code",
   "execution_count": null,
   "metadata": {},
   "outputs": [],
   "source": []
  }
 ],
 "metadata": {
  "kernelspec": {
   "display_name": "Python 3.8.2 64-bit ('3.8.2': pyenv)",
   "language": "python",
   "name": "python38264bit382pyenva1eac612f4bc4666913eb9e3d11426c8"
  },
  "language_info": {
   "codemirror_mode": {
    "name": "ipython",
    "version": 3
   },
   "file_extension": ".py",
   "mimetype": "text/x-python",
   "name": "python",
   "nbconvert_exporter": "python",
   "pygments_lexer": "ipython3",
   "version": "3.8.2"
  }
 },
 "nbformat": 4,
 "nbformat_minor": 4
}
